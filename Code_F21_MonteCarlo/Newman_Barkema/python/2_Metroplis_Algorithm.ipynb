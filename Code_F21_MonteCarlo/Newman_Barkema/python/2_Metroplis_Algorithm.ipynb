{
 "cells": [
  {
   "cell_type": "code",
   "execution_count": 3,
   "metadata": {},
   "outputs": [],
   "source": [
    "import numpy as np\n",
    "import matplotlib.pyplot as plt"
   ]
  },
  {
   "cell_type": "code",
   "execution_count": 77,
   "metadata": {},
   "outputs": [],
   "source": [
    "class Metropolis:\n",
    "    def __init__(self,L,J=1,B=0):\n",
    "        self.L = L\n",
    "        self.N = L*L\n",
    "        self.J = J\n",
    "        self.B = B\n",
    "        \n",
    "        self.sc = np.ones(self.N,dtype=np.int0)\n",
    "        self.prob = np.zeros(2,dtype=np.double)\n",
    "\n",
    "    def prob_calc(self,beta):\n",
    "        for i in range(2):\n",
    "            # 4 8\n",
    "            self.prob[i] = np.exp(-beta*4*(i+1))\n",
    "\n",
    "    def measure(self,func):\n",
    "        res = 0\n",
    "        # print(self.sc)\n",
    "        for i in range(self.N):\n",
    "            sum = func(i)\n",
    "            res += self.J*sum*self.sc[i]\n",
    "\n",
    "        sigma = np.sum(self.sc)\n",
    "        HH = -res -self.B*sigma\n",
    "\n",
    "        return sigma, HH\n",
    "\n",
    "    def helical(self,i):\n",
    "        sum = 0\n",
    "\n",
    "        nn = i + 1\n",
    "        if(nn == self.N): nn = 0\n",
    "        sum += self.sc[nn]\n",
    "\n",
    "        nn = i + self.L\n",
    "        if(nn >= self.N): nn -= self.N\n",
    "        sum += self.sc[nn]\n",
    "        return sum\n",
    "\n",
    "    \n",
    "    def sweep_pbc(self,i):\n",
    "        sum = 0\n",
    "\n",
    "        nn = i -1\n",
    "        if((nn+1 % self.L) == 0) : nn += self.L\n",
    "        sum += self.sc[nn]\n",
    "\n",
    "        nn = i + 1\n",
    "        if(nn % self.L == 0): nn -= self.L\n",
    "        sum += self.sc[nn]\n",
    "\n",
    "        nn = i - self.L\n",
    "        if(nn < 0): nn += self.N\n",
    "        sum += self.sc[nn]\n",
    "\n",
    "        nn = i + self.L\n",
    "        if(nn >= self.N): nn -= self.N\n",
    "        sum += self.sc[nn]\n",
    "        return sum\n",
    "    \n",
    "    def sweep_helical(self,i):\n",
    "        sum = 0\n",
    "\n",
    "        nn = i -1\n",
    "        if(nn < 0) : nn += self.N\n",
    "        sum += self.sc[nn]\n",
    "\n",
    "        nn = i + 1\n",
    "        if(nn >= self.N): nn -= self.N\n",
    "        sum += self.sc[nn]\n",
    "\n",
    "        nn = i - self.L\n",
    "        if(nn < 0): nn += self.N\n",
    "        sum += self.sc[nn]\n",
    "\n",
    "        nn = i + self.L\n",
    "        if(nn >= self.N): nn -= self.N\n",
    "        sum += self.sc[nn]\n",
    "        return sum\n",
    "\n",
    "    def calculate(self):\n",
    "        for i in range(self.N):\n",
    "            k = np.random.randint(self.N)\n",
    "            # delta = Enew - Eold\n",
    "            delta = 2*self.sc[k]*self.J*self.sweep_helical(k)\n",
    "            # print(delta)\n",
    "            if(delta <= 0): # A = 1\n",
    "                self.sc[k] *= -1\n",
    "            elif(np.random.rand() < self.prob[int(delta/4)-1]): #flip\n",
    "                # print(delta, self.prob[int(delta/4)-1])\n",
    "                self.sc[k] *= -1\n",
    "        return 2*self.sc[k], delta"
   ]
  },
  {
   "cell_type": "code",
   "execution_count": 88,
   "metadata": {},
   "outputs": [
    {
     "data": {
      "text/plain": [
       "(2, 8)"
      ]
     },
     "execution_count": 88,
     "metadata": {},
     "output_type": "execute_result"
    }
   ],
   "source": [
    "temp = Metropolis(100)\n",
    "temp.prob_calc(1/(2.4)) #beta = T^-1\n",
    "temp.calculate()"
   ]
  },
  {
   "cell_type": "code",
   "execution_count": 63,
   "metadata": {},
   "outputs": [
    {
     "data": {
      "text/plain": [
       "array([0.1888756 , 0.03567399])"
      ]
     },
     "execution_count": 63,
     "metadata": {},
     "output_type": "execute_result"
    }
   ],
   "source": [
    "temp.prob"
   ]
  },
  {
   "cell_type": "code",
   "execution_count": 64,
   "metadata": {},
   "outputs": [
    {
     "data": {
      "text/plain": [
       "0.035673993347252395"
      ]
     },
     "execution_count": 64,
     "metadata": {},
     "output_type": "execute_result"
    }
   ],
   "source": [
    "np.exp(-1/(2.4)*8)"
   ]
  },
  {
   "cell_type": "code",
   "execution_count": null,
   "metadata": {},
   "outputs": [],
   "source": [
    "temp = Metropolis(100)\n",
    "temp.prob_calc(1/(2.4)) #beta = T^-1\n",
    "ls = [10,20,40,60,100,200,400,1000,2000,3000,4000,10000,100000]\n",
    "cnt = 0\n",
    "# i = 0\n",
    "a = np.reshape(temp.sc,(temp.L,temp.L))\n",
    "plt.imshow(a,cmap=\"gray\")\n",
    "plt.show()\n",
    "\n",
    "for i in range(4001):\n",
    "    if(i == ls[cnt]):\n",
    "        cnt += 1\n",
    "        a = np.reshape(temp.sc,(temp.L,temp.L))\n",
    "        plt.imshow(a,cmap=\"Greys\")\n",
    "        print(\"cnt =\",ls[cnt-1])\n",
    "        plt.show()\n",
    "    temp.calculate()"
   ]
  },
  {
   "cell_type": "code",
   "execution_count": 105,
   "metadata": {},
   "outputs": [
    {
     "name": "stdout",
     "output_type": "stream",
     "text": [
      "10000 -20000\n"
     ]
    },
    {
     "ename": "KeyboardInterrupt",
     "evalue": "",
     "output_type": "error",
     "traceback": [
      "\u001b[1;31m---------------------------------------------------------------------------\u001b[0m",
      "\u001b[1;31mKeyboardInterrupt\u001b[0m                         Traceback (most recent call last)",
      "\u001b[1;32m~\\AppData\\Local\\Temp/ipykernel_26872/2464454975.py\u001b[0m in \u001b[0;36m<module>\u001b[1;34m\u001b[0m\n\u001b[0;32m     15\u001b[0m     \u001b[0mprint\u001b[0m\u001b[1;33m(\u001b[0m\u001b[0msigma\u001b[0m\u001b[1;33m,\u001b[0m\u001b[0mHH\u001b[0m\u001b[1;33m)\u001b[0m\u001b[1;33m\u001b[0m\u001b[1;33m\u001b[0m\u001b[0m\n\u001b[0;32m     16\u001b[0m     \u001b[1;32mfor\u001b[0m \u001b[0mi\u001b[0m \u001b[1;32min\u001b[0m \u001b[0mrange\u001b[0m\u001b[1;33m(\u001b[0m\u001b[1;36m18000\u001b[0m\u001b[1;33m)\u001b[0m\u001b[1;33m:\u001b[0m\u001b[1;33m\u001b[0m\u001b[1;33m\u001b[0m\u001b[0m\n\u001b[1;32m---> 17\u001b[1;33m         \u001b[0mM55\u001b[0m\u001b[1;33m.\u001b[0m\u001b[0mcalculate\u001b[0m\u001b[1;33m(\u001b[0m\u001b[1;33m)\u001b[0m\u001b[1;33m\u001b[0m\u001b[1;33m\u001b[0m\u001b[0m\n\u001b[0m\u001b[0;32m     18\u001b[0m         \u001b[0msigma\u001b[0m\u001b[1;33m,\u001b[0m \u001b[0mHH\u001b[0m \u001b[1;33m=\u001b[0m \u001b[0mM55\u001b[0m\u001b[1;33m.\u001b[0m\u001b[0mmeasure\u001b[0m\u001b[1;33m(\u001b[0m\u001b[0mM55\u001b[0m\u001b[1;33m.\u001b[0m\u001b[0mhelical\u001b[0m\u001b[1;33m)\u001b[0m\u001b[1;33m\u001b[0m\u001b[1;33m\u001b[0m\u001b[0m\n\u001b[0;32m     19\u001b[0m         \u001b[0mres\u001b[0m \u001b[1;33m+=\u001b[0m \u001b[0mnp\u001b[0m\u001b[1;33m.\u001b[0m\u001b[0marray\u001b[0m\u001b[1;33m(\u001b[0m\u001b[1;33m[\u001b[0m\u001b[0mnp\u001b[0m\u001b[1;33m.\u001b[0m\u001b[0mabsolute\u001b[0m\u001b[1;33m(\u001b[0m\u001b[0msigma\u001b[0m\u001b[1;33m)\u001b[0m\u001b[1;33m,\u001b[0m \u001b[0msigma\u001b[0m\u001b[1;33m**\u001b[0m\u001b[1;36m2\u001b[0m\u001b[1;33m,\u001b[0m \u001b[0mHH\u001b[0m\u001b[1;33m,\u001b[0m \u001b[0mHH\u001b[0m\u001b[1;33m*\u001b[0m\u001b[0mHH\u001b[0m\u001b[1;33m]\u001b[0m\u001b[1;33m)\u001b[0m\u001b[1;33m\u001b[0m\u001b[1;33m\u001b[0m\u001b[0m\n",
      "\u001b[1;32m~\\AppData\\Local\\Temp/ipykernel_26872/3451395154.py\u001b[0m in \u001b[0;36mcalculate\u001b[1;34m(self)\u001b[0m\n\u001b[0;32m     83\u001b[0m             \u001b[0mk\u001b[0m \u001b[1;33m=\u001b[0m \u001b[0mnp\u001b[0m\u001b[1;33m.\u001b[0m\u001b[0mrandom\u001b[0m\u001b[1;33m.\u001b[0m\u001b[0mrandint\u001b[0m\u001b[1;33m(\u001b[0m\u001b[0mself\u001b[0m\u001b[1;33m.\u001b[0m\u001b[0mN\u001b[0m\u001b[1;33m)\u001b[0m\u001b[1;33m\u001b[0m\u001b[1;33m\u001b[0m\u001b[0m\n\u001b[0;32m     84\u001b[0m             \u001b[1;31m# delta = Enew - Eold\u001b[0m\u001b[1;33m\u001b[0m\u001b[1;33m\u001b[0m\u001b[1;33m\u001b[0m\u001b[0m\n\u001b[1;32m---> 85\u001b[1;33m             \u001b[0mdelta\u001b[0m \u001b[1;33m=\u001b[0m \u001b[1;36m2\u001b[0m\u001b[1;33m*\u001b[0m\u001b[0mself\u001b[0m\u001b[1;33m.\u001b[0m\u001b[0msc\u001b[0m\u001b[1;33m[\u001b[0m\u001b[0mk\u001b[0m\u001b[1;33m]\u001b[0m\u001b[1;33m*\u001b[0m\u001b[0mself\u001b[0m\u001b[1;33m.\u001b[0m\u001b[0mJ\u001b[0m\u001b[1;33m*\u001b[0m\u001b[0mself\u001b[0m\u001b[1;33m.\u001b[0m\u001b[0msweep_helical\u001b[0m\u001b[1;33m(\u001b[0m\u001b[0mk\u001b[0m\u001b[1;33m)\u001b[0m\u001b[1;33m\u001b[0m\u001b[1;33m\u001b[0m\u001b[0m\n\u001b[0m\u001b[0;32m     86\u001b[0m             \u001b[1;31m# print(delta)\u001b[0m\u001b[1;33m\u001b[0m\u001b[1;33m\u001b[0m\u001b[1;33m\u001b[0m\u001b[0m\n\u001b[0;32m     87\u001b[0m             \u001b[1;32mif\u001b[0m\u001b[1;33m(\u001b[0m\u001b[0mdelta\u001b[0m \u001b[1;33m<=\u001b[0m \u001b[1;36m0\u001b[0m\u001b[1;33m)\u001b[0m\u001b[1;33m:\u001b[0m \u001b[1;31m# A = 1\u001b[0m\u001b[1;33m\u001b[0m\u001b[1;33m\u001b[0m\u001b[0m\n",
      "\u001b[1;32m~\\AppData\\Local\\Temp/ipykernel_26872/3451395154.py\u001b[0m in \u001b[0;36msweep_helical\u001b[1;34m(self, i)\u001b[0m\n\u001b[0;32m     68\u001b[0m         \u001b[0mnn\u001b[0m \u001b[1;33m=\u001b[0m \u001b[0mi\u001b[0m \u001b[1;33m+\u001b[0m \u001b[1;36m1\u001b[0m\u001b[1;33m\u001b[0m\u001b[1;33m\u001b[0m\u001b[0m\n\u001b[0;32m     69\u001b[0m         \u001b[1;32mif\u001b[0m\u001b[1;33m(\u001b[0m\u001b[0mnn\u001b[0m \u001b[1;33m>=\u001b[0m \u001b[0mself\u001b[0m\u001b[1;33m.\u001b[0m\u001b[0mN\u001b[0m\u001b[1;33m)\u001b[0m\u001b[1;33m:\u001b[0m \u001b[0mnn\u001b[0m \u001b[1;33m-=\u001b[0m \u001b[0mself\u001b[0m\u001b[1;33m.\u001b[0m\u001b[0mN\u001b[0m\u001b[1;33m\u001b[0m\u001b[1;33m\u001b[0m\u001b[0m\n\u001b[1;32m---> 70\u001b[1;33m         \u001b[0msum\u001b[0m \u001b[1;33m+=\u001b[0m \u001b[0mself\u001b[0m\u001b[1;33m.\u001b[0m\u001b[0msc\u001b[0m\u001b[1;33m[\u001b[0m\u001b[0mnn\u001b[0m\u001b[1;33m]\u001b[0m\u001b[1;33m\u001b[0m\u001b[1;33m\u001b[0m\u001b[0m\n\u001b[0m\u001b[0;32m     71\u001b[0m \u001b[1;33m\u001b[0m\u001b[0m\n\u001b[0;32m     72\u001b[0m         \u001b[0mnn\u001b[0m \u001b[1;33m=\u001b[0m \u001b[0mi\u001b[0m \u001b[1;33m-\u001b[0m \u001b[0mself\u001b[0m\u001b[1;33m.\u001b[0m\u001b[0mL\u001b[0m\u001b[1;33m\u001b[0m\u001b[1;33m\u001b[0m\u001b[0m\n",
      "\u001b[1;31mKeyboardInterrupt\u001b[0m: "
     ]
    }
   ],
   "source": [
    "T = np.zeros(25,dtype=np.double)\n",
    "m = np.zeros(25,dtype=np.double)\n",
    "c = np.zeros(25,dtype=np.double)\n",
    "\n",
    "for i in range(25):\n",
    "    T[i] = 0.2*(i+1)\n",
    "\n",
    "for j in range(25):\n",
    "    M55 = Metropolis(100)\n",
    "    M55.prob_calc(1/T[j])\n",
    "    res = np.zeros(4,dtype=np.double)\n",
    "    for i in range(2000):\n",
    "        M55.calculate()\n",
    "    sigma, HH = M55.measure(M55.helical)\n",
    "    print(sigma,HH)\n",
    "    for i in range(18000):\n",
    "        M55.calculate()\n",
    "        sigma, HH = M55.measure(M55.helical)\n",
    "        res += np.array([np.absolute(sigma), sigma**2, HH, HH*HH])\n",
    "    res /= 18000 \n",
    "    m[j] = res[0]/M55.N\n",
    "    c[j] = (1/T[j])**2*(res[3]-res[2]**2)/M55.N\n",
    "    # print(m[j],c[j])\n"
   ]
  },
  {
   "cell_type": "code",
   "execution_count": 91,
   "metadata": {},
   "outputs": [
    {
     "data": {
      "image/png": "[encoded data removed]",
      "text/plain": [
       "<Figure size 432x288 with 1 Axes>"
      ]
     },
     "metadata": {},
     "output_type": "display_data"
    }
   ],
   "source": [
    "y = m/max(m)\n",
    "\n",
    "plt.style.use('seaborn-whitegrid')\n",
    "plt.ylim(0,1.1)\n",
    "plt.xlim(0,5)\n",
    "plt.plot(T,y)\n",
    "\n",
    "plt.ylabel('magnetization m')\n",
    "plt.xlabel('Temperature T')\n",
    "plt.show()"
   ]
  },
  {
   "cell_type": "code",
   "execution_count": 104,
   "metadata": {},
   "outputs": [
    {
     "data": {
      "image/png": "[encoded data removed]",
      "text/plain": [
       "<Figure size 432x288 with 1 Axes>"
      ]
     },
     "metadata": {},
     "output_type": "display_data"
    }
   ],
   "source": [
    "y = c/max(c)\n",
    "\n",
    "plt.style.use('seaborn-whitegrid')\n",
    "plt.ylim(0,1.1)\n",
    "plt.xlim(0,5)\n",
    "plt.plot(T,y)\n",
    "\n",
    "plt.ylabel('Specific heat per spin m')\n",
    "plt.xlabel('Temperature T')\n",
    "plt.show()"
   ]
  }
 ],
 "metadata": {
  "interpreter": {
   "hash": "04877cdb6d6ab02d72696c27475da033da97568d083fc8fbf1308ca0815a0db3"
  },
  "kernelspec": {
   "display_name": "Python 3.8.8 64-bit ('base': conda)",
   "name": "python3"
  },
  "language_info": {
   "codemirror_mode": {
    "name": "ipython",
    "version": 3
   },
   "file_extension": ".py",
   "mimetype": "text/x-python",
   "name": "python",
   "nbconvert_exporter": "python",
   "pygments_lexer": "ipython3",
   "version": "3.9.5"
  },
  "orig_nbformat": 4
 },
 "nbformat": 4,
 "nbformat_minor": 2
}
