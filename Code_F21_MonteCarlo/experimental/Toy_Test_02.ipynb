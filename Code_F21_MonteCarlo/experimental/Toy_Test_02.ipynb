{
 "cells": [
  {
   "cell_type": "code",
   "execution_count": 1,
   "metadata": {},
   "outputs": [],
   "source": [
    "import numpy as np\n",
    "import matplotlib.pyplot as plt"
   ]
  },
  {
   "cell_type": "code",
   "execution_count": 2,
   "metadata": {},
   "outputs": [],
   "source": [
    "# Generating all possible set of n*n spin configuration and save it into {out} parameter\n",
    "# O(2^{n*n})\n",
    "\n",
    "def generator(out,i,j,inp,n=5):\n",
    "    if(j >= n) :\n",
    "        j = 0\n",
    "        i += 1\n",
    "    if(i >= n) :\n",
    "        inp0 = np.copy(inp)\n",
    "        out.append(inp0)\n",
    "        return \n",
    "    generator(out,i,j+1,inp,n)\n",
    "    inp[i,j] *= -1\n",
    "    generator(out,i,j+1,inp,n)\n",
    "    inp[i,j] *= -1"
   ]
  },
  {
   "cell_type": "code",
   "execution_count": 3,
   "metadata": {},
   "outputs": [],
   "source": [
    "# without J coefficient\n",
    "# Column 단위로 계산, 즉 첫 번째 row에서 세로방향으로 interaction을 다 더함\n",
    "\n",
    "def naive_calc_H(spin_conf):\n",
    "    res = 0\n",
    "    N = len(spin_conf[0]) # Lattice number\n",
    "    for i in range(N):\n",
    "        for j in range(N-1): # Correlation이니까 마지막 점은 제외\n",
    "            res += spin_conf[i][j]*spin_conf[i][j+1]\n",
    "        if(i == 0) : continue\n",
    "        for j in range(N):\n",
    "            if(j==0) :\n",
    "                res += spin_conf[i][j]*(spin_conf[i-1][j] + spin_conf[i-1][j+1])\n",
    "            elif(j==N-1) :\n",
    "                res += spin_conf[i][j]*(spin_conf[i-1][j] + spin_conf[i-1][j-1])\n",
    "            else :\n",
    "                res += spin_conf[i][j]*(spin_conf[i-1][j] + spin_conf[i-1][j-1] + spin_conf[i-1][j+1])\n",
    "    return res*-1\n",
    "\n",
    "# 이렇게 하니까 그래프가 너무 쪼그라드는데??\n",
    "def naive_calc_H2(spin_conf): # Without diagonal response\n",
    "    res = 0\n",
    "    N = len(spin_conf[0]) # Lattice number\n",
    "    for i in range(N):\n",
    "        for j in range(N-1): # Correlation이니까 마지막 점은 제외\n",
    "            res += spin_conf[i][j]*spin_conf[i][j+1]\n",
    "        if(i == 0) : continue\n",
    "        for j in range(N):\n",
    "            if(j==0) :\n",
    "                res += spin_conf[i][j]*(spin_conf[i-1][j])\n",
    "            elif(j==N-1) :\n",
    "                res += spin_conf[i][j]*(spin_conf[i-1][j])\n",
    "            else :\n",
    "                res += spin_conf[i][j]*(spin_conf[i-1][j])\n",
    "    return res*-1"
   ]
  },
  {
   "cell_type": "code",
   "execution_count": 4,
   "metadata": {},
   "outputs": [],
   "source": [
    "# without J coefficient\n",
    "\n",
    "def naive_calc_H3(sc): #spin configuration array\n",
    "    res = 0\n",
    "    N = len(sc[0])\n",
    "    for i in range(N*N):\n",
    "        nn = i + 1\n",
    "        if(nn >= N*N) : nn -= N*N\n",
    "        sum = sc[nn%N][int(nn/N)]\n",
    "\n",
    "        nn = i - 1\n",
    "        if(nn < 0) : nn += N*N\n",
    "        sum += sc[nn%N][int(nn/N)]\n",
    "        # print(nn%N,int(nn/N))\n",
    "        \n",
    "        nn = i + N\n",
    "        if(nn >= N*N) : nn -= N*N\n",
    "        sum += sc[nn%N][int(nn/N)]\n",
    "\n",
    "        nn = i - N\n",
    "        if(nn < 0) : nn += N*N\n",
    "        sum += sc[nn%N][int(nn/N)]\n",
    "        \n",
    "        # print(sum, i)\n",
    "        res += sum*sc[i%N][int(i/N)]\n",
    "    # print(sc)\n",
    "    # print()\n",
    "\n",
    "    return res*-1"
   ]
  },
  {
   "cell_type": "code",
   "execution_count": 5,
   "metadata": {},
   "outputs": [],
   "source": [
    "# Assume that J/k = 1 for this case\n",
    "\n",
    "def partition_function(H,T,J=1):\n",
    "    # k = 1.38E-23 # boltzman constant\n",
    "    k = 1\n",
    "    return np.exp(-1*J*H/(k*T))"
   ]
  },
  {
   "cell_type": "code",
   "execution_count": 6,
   "metadata": {},
   "outputs": [],
   "source": [
    "# Generating all possible set of n*n spin configuration and save it into {out} parameter\n",
    "# O(2^{n*n})\n",
    "# Up/down symmetry를 위해서 첫 항을 1로 고정\n",
    "# result 2**(n*n-1)개의 element를 가진 list\n",
    "\n",
    "def generator_sym(out,inp,n=5,i=0,j=1):\n",
    "    if(j >= n) :\n",
    "        j = 0\n",
    "        i += 1\n",
    "    if(i >= n) :\n",
    "        inp0 = np.copy(inp)\n",
    "        out.append(inp0)\n",
    "        # Hout.append(naive_calc_H(inp0))\n",
    "        return \n",
    "    # generator_sym(out,Hout,inp,n,i,j+1)\n",
    "    generator_sym(out,inp,n,i,j+1)\n",
    "    inp[i,j] *= -1\n",
    "    # generator_sym(out,Hout,inp,n,i,j+1)\n",
    "    generator_sym(out,inp,n,i,j+1)\n",
    "    inp[i,j] *= -1\n",
    "\n",
    "# N*N Lattice configuration generator -> Easy to use\n",
    "\n",
    "def genNN(N):\n",
    "    res = []\n",
    "    Hres = []\n",
    "    # generator_sym(res,Hres,np.ones((N,N),dtype=np.int0),N)\n",
    "    generator_sym(res,np.ones((N,N),dtype=np.int0),N)\n",
    "    # return np.array(res), np.array(Hres)\n",
    "    return np.array(res) \n",
    "\n",
    "def gen_sum_si(inp):\n",
    "    return np.sum(np.sum(inp,axis=2),axis=1)"
   ]
  },
  {
   "cell_type": "code",
   "execution_count": 7,
   "metadata": {},
   "outputs": [
    {
     "name": "stdout",
     "output_type": "stream",
     "text": [
      "8 16 16\n"
     ]
    }
   ],
   "source": [
    "L22 = genNN(2)\n",
    "print(len(L22),2**4,2**4)\n",
    "# print(L55)"
   ]
  },
  {
   "cell_type": "code",
   "execution_count": 8,
   "metadata": {},
   "outputs": [],
   "source": [
    "HL22 = []\n",
    "for i in L22:\n",
    "    HL22.append(naive_calc_H3(i))\n",
    "HL22 = np.array(HL22)"
   ]
  },
  {
   "cell_type": "code",
   "execution_count": 9,
   "metadata": {},
   "outputs": [
    {
     "data": {
      "text/plain": [
       "array([-16,   0,   0,   0,   0,   8,   8,   0], dtype=int64)"
      ]
     },
     "execution_count": 9,
     "metadata": {},
     "output_type": "execute_result"
    }
   ],
   "source": [
    "HL22"
   ]
  },
  {
   "cell_type": "code",
   "execution_count": 10,
   "metadata": {},
   "outputs": [],
   "source": [
    "ls = []\n",
    "for i in range(25):\n",
    "    T = 0.2*(i+1)\n",
    "    ZL22 = partition_function(HL22,T)\n",
    "    # print(ZL22)\n",
    "    ls.append(np.sum(gen_sum_si(L22) * ZL22)/np.sum(ZL22))"
   ]
  },
  {
   "cell_type": "code",
   "execution_count": 11,
   "metadata": {},
   "outputs": [
    {
     "data": {
      "text/plain": [
       "[<matplotlib.lines.Line2D at 0x22b8bbf6430>]"
      ]
     },
     "execution_count": 11,
     "metadata": {},
     "output_type": "execute_result"
    },
    {
     "data": {
      "image/png": "[encoded data removed]",
      "text/plain": [
       "<Figure size 432x288 with 1 Axes>"
      ]
     },
     "metadata": {},
     "output_type": "display_data"
    }
   ],
   "source": [
    "T = [(i+1)*(0.2) for i in range(25)]\n",
    "y = ls/max(ls)\n",
    "\n",
    "plt.style.use('seaborn-whitegrid')\n",
    "plt.ylim(0,1.1)\n",
    "plt.xlim(0,5)\n",
    "plt.plot(T,y)"
   ]
  },
  {
   "cell_type": "markdown",
   "metadata": {},
   "source": [
    "----"
   ]
  },
  {
   "cell_type": "code",
   "execution_count": 12,
   "metadata": {},
   "outputs": [
    {
     "name": "stdout",
     "output_type": "stream",
     "text": [
      "16777216 16777216 33554432\n"
     ]
    }
   ],
   "source": [
    "L55 = genNN(5)\n",
    "print(len(L55),2**24,2**25)\n",
    "# print(L55)\n",
    "# about 70s"
   ]
  },
  {
   "cell_type": "code",
   "execution_count": 13,
   "metadata": {},
   "outputs": [],
   "source": [
    "HL55 = []\n",
    "for i in L55:\n",
    "    HL55.append(naive_calc_H3(i))\n",
    "HL55 = np.array(HL55)\n",
    "# about 500s"
   ]
  },
  {
   "cell_type": "code",
   "execution_count": 14,
   "metadata": {},
   "outputs": [],
   "source": [
    "mL55 = []\n",
    "_N = 50\n",
    "for i in range(_N):\n",
    "    T = (5/_N)*(i+2)\n",
    "    ZL55 = partition_function(HL55,T)\n",
    "    # print(ZL22)\n",
    "    mL55.append(np.sum(gen_sum_si(L55) * ZL55)/np.sum(ZL55))"
   ]
  },
  {
   "cell_type": "code",
   "execution_count": 15,
   "metadata": {},
   "outputs": [
    {
     "data": {
      "image/png": "[encoded data removed]",
      "text/plain": [
       "<Figure size 432x288 with 1 Axes>"
      ]
     },
     "metadata": {},
     "output_type": "display_data"
    }
   ],
   "source": [
    "T = [(i+2)*(5/_N) for i in range(_N)]\n",
    "y = mL55/max(mL55)\n",
    "\n",
    "plt.style.use('seaborn-whitegrid')\n",
    "plt.ylim(0,1.1)\n",
    "plt.xlim(0,5)\n",
    "plt.plot(T,y)\n",
    "\n",
    "plt.ylabel('magnetization per spin m')\n",
    "plt.xlabel('temperature T')\n",
    "plt.show()"
   ]
  }
 ],
 "metadata": {
  "interpreter": {
   "hash": "04877cdb6d6ab02d72696c27475da033da97568d083fc8fbf1308ca0815a0db3"
  },
  "kernelspec": {
   "display_name": "Python 3.8.8 64-bit ('base': conda)",
   "name": "python3"
  },
  "language_info": {
   "codemirror_mode": {
    "name": "ipython",
    "version": 3
   },
   "file_extension": ".py",
   "mimetype": "text/x-python",
   "name": "python",
   "nbconvert_exporter": "python",
   "pygments_lexer": "ipython3",
   "version": "3.9.5"
  },
  "orig_nbformat": 4
 },
 "nbformat": 4,
 "nbformat_minor": 2
}
